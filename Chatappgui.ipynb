{
 "cells": [
  {
   "cell_type": "code",
   "execution_count": 4,
   "id": "29b955e1",
   "metadata": {},
   "outputs": [
    {
     "name": "stdout",
     "output_type": "stream",
     "text": [
      "Requirement already satisfied: ipynb in c:\\users\\geeta\\anaconda33\\envs\\tensorflow\\lib\\site-packages (0.5.1)\n",
      "Note: you may need to restart the kernel to use updated packages.\n"
     ]
    }
   ],
   "source": [
    "# pip install ipynb"
   ]
  },
  {
   "cell_type": "code",
   "execution_count": 1,
   "id": "aec29055",
   "metadata": {},
   "outputs": [],
   "source": [
    "from tkinter import *\n",
    "import json\n",
    "from ipynb.fs.full.Chatwithme_chatbot import chatbotSpeaks\n"
   ]
  },
  {
   "cell_type": "code",
   "execution_count": 2,
   "id": "8bc0a5fb",
   "metadata": {},
   "outputs": [],
   "source": [
    "intents=json.load(open(\"intents.json\",\"rb\"))"
   ]
  },
  {
   "cell_type": "code",
   "execution_count": 3,
   "id": "2fbf435d",
   "metadata": {},
   "outputs": [],
   "source": [
    "#deciding the colors to be used through out\n",
    "BgGray=\"#676BA3\"\n",
    "BgColor=\"#CFCCD9\"\n",
    "TextColor=\"#030000\""
   ]
  },
  {
   "cell_type": "code",
   "execution_count": 4,
   "id": "09937c7f",
   "metadata": {},
   "outputs": [],
   "source": [
    "#deciding the font beforehand\n",
    "Font=\"Helvertica 14\"\n",
    "FontBold=\"Helvertica 13 bold\""
   ]
  },
  {
   "cell_type": "code",
   "execution_count": 8,
   "id": "f89c3e5e",
   "metadata": {},
   "outputs": [],
   "source": [
    "class ChatApp:\n",
    "    def __init__(self):\n",
    "        self.window=Tk()\n",
    "        self._setup_main_window()\n",
    "    def run(self):\n",
    "        self.window.mainloop()\n",
    "    def _setup_main_window(self):\n",
    "        self.window.title(\"Lets chat\")\n",
    "        self.window.resizable(width=True, height=False)\n",
    "        self.window.configure(width=450, height=450, bg=BgColor)\n",
    "        #head label\n",
    "        HeadLabel=Label(self.window, bg=BgColor, fg=TextColor, \n",
    "                        text=\"Welcome!\", font=FontBold, pady=10)\n",
    "        HeadLabel.place(relwidth=1)\n",
    "        \n",
    "        #tiny dividor\n",
    "        Line=Label(self.window, width=450, bg=BgGray)\n",
    "        Line.place(relwidth=1, rely=0.07, relheight=0.012)\n",
    "        \n",
    "        #text widget\n",
    "        self.text_widget=Text(self.window, width=20, height=2, \n",
    "                              bg=BgColor,fg=TextColor,font=Font, padx=10, pady=10)\n",
    "        self.text_widget.place(relheight=0.745, relwidth=1, rely=0.08)\n",
    "        \n",
    "        self.text_widget.configure(cursor=\"arrow\", state=DISABLED)\n",
    "        \n",
    "        #scroll bar\n",
    "        ScrollBar=Scrollbar(self.text_widget)\n",
    "        ScrollBar.place(relheight=1, relx=0.974)\n",
    "        ScrollBar.configure(command=self.text_widget.yview)\n",
    "        \n",
    "        #bottome level\n",
    "        \n",
    "        BottomLabel=Label(self.window, bg=BgGray, height=80)\n",
    "        BottomLabel.place(relwidth=1, rely=0.825)\n",
    "        \n",
    "        #mesage entry box\n",
    "        self.MessageEnter=Entry(BottomLabel, bg=\"#2C3E50\", fg=TextColor, font=Font)\n",
    "        self.MessageEnter.place(relwidth=0.74, relheight=0.04, rely=0.008, relx=0.011)\n",
    "        self.MessageEnter.focus()\n",
    "        self.MessageEnter.bind(\"<Return>\", self._on_enter_pressed)\n",
    "    \n",
    "        #send widget\n",
    "        SendButton=Button(BottomLabel, text=\"Send\", font=FontBold, width=18, bg=BgGray,\n",
    "                                command=lambda: self._on_enter_pressed(None))\n",
    "        SendButton.place(relx=0.77, rely=0.008, relheight=0.06, relwidth=0.22)\n",
    "        \n",
    "    def _on_enter_pressed(self, event):\n",
    "        Message=self.MessageEnter.get()\n",
    "        self._insert_message(Message, \"You: \")\n",
    "    def _insert_message(self, Message,Sender):\n",
    "        if not Message:\n",
    "            return\n",
    "        self.MessageEnter.delete(0,END)\n",
    "        Message1=f\"{Sender}: {Message}\\n\\n\"\n",
    "        self.text_widget.configure(state=NORMAL)\n",
    "        self.text_widget.insert(END, Message1)\n",
    "        self.text_widget.configure(state=DISABLED)\n",
    "        \n",
    "        botspeak=chatbotSpeaks(intents, Message)\n",
    "        \n",
    "        Message2=f\"{BotName}: {botspeak}\\n\\n\"\n",
    "        self.text_widget.configure(state=NORMAL)\n",
    "        self.text_widget.insert(END, Message2)\n",
    "        self.text_widget.configure(state=DISABLED)\n",
    "        \n",
    "        self.text_widget.see(END)\n",
    "        "
   ]
  },
  {
   "cell_type": "code",
   "execution_count": 6,
   "id": "b855c925",
   "metadata": {},
   "outputs": [],
   "source": [
    "BotName=\"NeuralBot\""
   ]
  },
  {
   "cell_type": "code",
   "execution_count": 9,
   "id": "08490275",
   "metadata": {},
   "outputs": [],
   "source": [
    "if __name__==\"__main__\":\n",
    "    app=ChatApp()\n",
    "    app.run()"
   ]
  },
  {
   "cell_type": "code",
   "execution_count": null,
   "id": "c424bd0c",
   "metadata": {},
   "outputs": [],
   "source": []
  },
  {
   "cell_type": "code",
   "execution_count": null,
   "id": "6fc8d57d",
   "metadata": {},
   "outputs": [],
   "source": []
  },
  {
   "cell_type": "code",
   "execution_count": null,
   "id": "9c02d469",
   "metadata": {},
   "outputs": [],
   "source": []
  }
 ],
 "metadata": {
  "kernelspec": {
   "display_name": "Python 3",
   "language": "python",
   "name": "python3"
  },
  "language_info": {
   "codemirror_mode": {
    "name": "ipython",
    "version": 3
   },
   "file_extension": ".py",
   "mimetype": "text/x-python",
   "name": "python",
   "nbconvert_exporter": "python",
   "pygments_lexer": "ipython3",
   "version": "3.8.10"
  }
 },
 "nbformat": 4,
 "nbformat_minor": 5
}
