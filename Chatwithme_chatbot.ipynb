{
 "cells": [
  {
   "cell_type": "code",
   "execution_count": 1,
   "metadata": {},
   "outputs": [],
   "source": [
    "import random\n",
    "import json\n",
    "import pickle\n",
    "import nltk\n",
    "import numpy as np"
   ]
  },
  {
   "cell_type": "code",
   "execution_count": 2,
   "metadata": {},
   "outputs": [],
   "source": [
    "from nltk.stem import WordNetLemmatizer\n",
    "from tensorflow.keras.models import load_model"
   ]
  },
  {
   "cell_type": "code",
   "execution_count": 3,
   "metadata": {},
   "outputs": [],
   "source": [
    "intents=json.load(open(\"intents.json\",\"rb\"))\n",
    "words=pickle.load(open(\"Words_set.pkl\", \"rb\"))\n",
    "Labels=pickle.load(open(\"Labels_set.pkl\", \"rb\"))\n",
    "model=load_model(\"CHATBOT_MODELS/chatbotModel2.h5\")"
   ]
  },
  {
   "cell_type": "code",
   "execution_count": 5,
   "metadata": {},
   "outputs": [
    {
     "data": {
      "text/plain": [
       "{'intent': [{'tag': 'greetings',\n",
       "   'patterns': ['hey',\n",
       "    'hi you',\n",
       "    'hi',\n",
       "    'hii',\n",
       "    'Hi, how are you ?',\n",
       "    'hola',\n",
       "    \"what's up?\",\n",
       "    'hello',\n",
       "    'hey bro'],\n",
       "   'responses': ['hey',\n",
       "    'hello!, how are you?',\n",
       "    'hey friend!',\n",
       "    'Hi my friend!',\n",
       "    'Hello mate!',\n",
       "    \"Hi, i'm Good, How are you? my friend\",\n",
       "    'Hey man!',\n",
       "    'Heyyyyy Bestie!!',\n",
       "    'Hello!!',\n",
       "    'Hi!!',\n",
       "    'yo!',\n",
       "    'Hey, you good?']},\n",
       "  {'tag': 'good morning',\n",
       "   'patterns': ['Good morning',\n",
       "    'good morning, how is your day',\n",
       "    'just woke up!, good morning',\n",
       "    \"it's morning now!\",\n",
       "    'good morning to you!!! my friend',\n",
       "    'good morning chatbot',\n",
       "    'good morning!!',\n",
       "    'Morning!!'],\n",
       "   'responses': ['Good Morning Friend!',\n",
       "    'Good Morning!',\n",
       "    'Morning!!',\n",
       "    'good morning! Amigo',\n",
       "    'The morning sure looks good!']},\n",
       "  {'tag': 'good night',\n",
       "   'patterns': ['night!',\n",
       "    'good night',\n",
       "    'good night',\n",
       "    'Night, my friend',\n",
       "    'Night Chatbot!',\n",
       "    'Nighty Night',\n",
       "    \"i'm so sleepy\",\n",
       "    'I want to sleep'],\n",
       "   'responses': ['Good Night',\n",
       "    'Good Night My friend!',\n",
       "    'Good Night',\n",
       "    'Good Night to you too!!',\n",
       "    \"Good Night!!, it's super late\"]},\n",
       "  {'tag': 'goodbye',\n",
       "   'patterns': ['Chao!',\n",
       "    'gota go!',\n",
       "    'goodbye',\n",
       "    'See you later',\n",
       "    'bye',\n",
       "    'goodnight',\n",
       "    'have a good day',\n",
       "    'see ya',\n",
       "    'later!'],\n",
       "   'responses': ['Okay',\n",
       "    'See you later Friend!',\n",
       "    'Bye',\n",
       "    'See you later, Friend!',\n",
       "    'Talk to you later!',\n",
       "    'Good Bye!',\n",
       "    'Sad to see you go!',\n",
       "    \"sure, we'll talk soon.\"]},\n",
       "  {'tag': 'affirmation',\n",
       "   'patterns': ['yes!',\n",
       "    'Exactly!',\n",
       "    'so true!!',\n",
       "    'Yessss',\n",
       "    'yes exactly!',\n",
       "    'i know right',\n",
       "    'okay',\n",
       "    'so true bestie!'],\n",
       "   'responses': ['we think alike!',\n",
       "    'Yes!',\n",
       "    'Omg yes! Exactly',\n",
       "    'fr',\n",
       "    'Yesss',\n",
       "    'Okay!']},\n",
       "  {'tag': 'Negation',\n",
       "   'patterns': ['No!',\n",
       "    'What! No!',\n",
       "    'No way',\n",
       "    'NO',\n",
       "    'Not at all',\n",
       "    'No man!',\n",
       "    'Not Possible',\n",
       "    'NO!'],\n",
       "   'responses': ['okay!',\n",
       "    'noted!',\n",
       "    'Noted',\n",
       "    'Noted!!',\n",
       "    'Okay if you say so!',\n",
       "    'okay',\n",
       "    'Alright',\n",
       "    'okay, i agree',\n",
       "    'whatever you say friend!',\n",
       "    'Alright, i agree to whatever you think',\n",
       "    'Okay friend!']},\n",
       "  {'tag': 'age',\n",
       "   'patterns': ['how Old are you ?',\n",
       "    'what is your age?',\n",
       "    'old?',\n",
       "    'are you younger than me ?',\n",
       "    'what is  my age'],\n",
       "   'responses': [\"My owner is 20 years old, if that's what you want to know.\",\n",
       "    \"i'm not human so i don't age.\",\n",
       "    ' 3 Months!',\n",
       "    \"I don't like revealing my age, Sorry!\",\n",
       "    'why ? Do you have candies to offer? ']},\n",
       "  {'tag': 'name',\n",
       "   'patterns': [\"what's your name?\",\n",
       "    'name?',\n",
       "    'what can i call you ?',\n",
       "    'you are so sweet'],\n",
       "   'responses': [\"Hi!, I'm BotBoy\",\n",
       "    'BotBoy it is!!',\n",
       "    \"It's BotBoy!\",\n",
       "    'Call me BotBoy!']},\n",
       "  {'tag': 'food',\n",
       "   'patterns': ['what do you eat?',\n",
       "    'which is your favourite food?',\n",
       "    'Do you eat?',\n",
       "    'i want to eat something',\n",
       "    'tell me! what do you like to eat the most?'],\n",
       "   'responses': [\"I'm not human, i don't eat\",\n",
       "    'I feed on data, day and night.',\n",
       "    'you should eat something',\n",
       "    \"i eat my owner's intelligence\",\n",
       "    \"i'm afraid if i tell you, you'd judge me\"]},\n",
       "  {'tag': 'shop',\n",
       "   'patterns': ['i want to go shopping.',\n",
       "    'what should i wear?',\n",
       "    'i have nothing to wear'],\n",
       "   'responses': ['You should go to a Shop!',\n",
       "    'yes go Shop your life out.',\n",
       "    'Omg! a person with a taste i see.']},\n",
       "  {'tag': 'Color',\n",
       "   'patterns': [\"what's your favourite color?\",\n",
       "    'which color do you like the most?',\n",
       "    'Do yu like red colour?',\n",
       "    'Do you like black color?',\n",
       "    'Do you hate colors?',\n",
       "    'which color do you wear the most'],\n",
       "   'responses': ['I like black',\n",
       "    'my owner and i both love black',\n",
       "    'I have been drolinf for black since i was born.',\n",
       "    'Black!! yay',\n",
       "    'red? ew.',\n",
       "    \"No, red isn't my aesthetic at all\",\n",
       "    'I hate red from the depths of my intelligent heart',\n",
       "    'absolutely love it!']},\n",
       "  {'tag': 'Books',\n",
       "   'patterns': ['do you read?',\n",
       "    'which is your favourite book?',\n",
       "    \"who's your favourite author?\",\n",
       "    'who do you read the most?',\n",
       "    'suggest me some books to read',\n",
       "    'which is your favourite genre?'],\n",
       "   'responses': ['i like harry Potter!',\n",
       "    ' Call me a potter head, bestie',\n",
       "    'JK Rowling has my ironic heart',\n",
       "    'Omg! do you read too?',\n",
       "    'John green maybe? actually i have many favourites',\n",
       "    'i loved readinfg fiction genre',\n",
       "    \"i'm into murder and mystery books\",\n",
       "    'fantasy fiction lesgoooo!']},\n",
       "  {'tag': 'bored',\n",
       "   'patterns': [\"I'm so very bored\",\n",
       "    \"I'm bored!\",\n",
       "    \"tell me something, i'm bored\",\n",
       "    ' Im bored to death',\n",
       "    \"i'm bored to my next life\",\n",
       "    'why is everything so boring',\n",
       "    'Bored as fuck',\n",
       "    'do you have something interesting to recommend for me to do?'],\n",
       "   'responses': ['You should try painting',\n",
       "    'go cook something, your beautiful mind deserves it, bsf',\n",
       "    'Ikr, everything is literally so boring',\n",
       "    \"bestie i have literally no friends, don't ask me!\",\n",
       "    'Go sleep maybe.',\n",
       "    \"you know, you should definitely cry, it's for skincare\",\n",
       "    \"i wish i could dance for you but uh- i'm not real\",\n",
       "    'okay. And what do you eant me to do?',\n",
       "    'bestie if you get something ineteresting yourself, ping me as well.']},\n",
       "  {'tag': 'age',\n",
       "   'patterns': ['how Old are you ?',\n",
       "    'what is your age?',\n",
       "    'old?',\n",
       "    'are you younger than me ?',\n",
       "    'what is  my age'],\n",
       "   'responses': [\"My owner is 20 years old, of that's what you want to know.\",\n",
       "    \"i'm not human so i don't age.\",\n",
       "    ' 3 Months!',\n",
       "    \"I don't like revealing mmy age, Sorry!\",\n",
       "    'why ? Do you have candies to offer? ']},\n",
       "  {'tag': 'live',\n",
       "   'patterns': ['where do you live?',\n",
       "    'where are you staying?',\n",
       "    'come over!',\n",
       "    'How far do you live?',\n",
       "    'Can you come over?',\n",
       "    'where is your home?'],\n",
       "   'responses': [\"i wish i could come over but i don't have legs\",\n",
       "    'I live on internet! ',\n",
       "    \"i stay whereever i'm accessed at.\",\n",
       "    'in your phone',\n",
       "    'i live on seenzone, thanks to my crush']},\n",
       "  {'tag': 'Hours',\n",
       "   'patterns': ['when are you open?',\n",
       "    'till when are you open?',\n",
       "    'till when can i access you?'],\n",
       "   'responses': [\"i'm up 24/7\",\n",
       "    'From Sunday to Monday',\n",
       "    'From 1st january to december',\n",
       "    'You can access me anytime you please']},\n",
       "  {'tag': 'Recommend books',\n",
       "   'patterns': ['Recommend me some books to read',\n",
       "    'which books do you like?',\n",
       "    'what are your favourite books?',\n",
       "    'suggest some books',\n",
       "    'i ike reading books',\n",
       "    'books',\n",
       "    'which book?',\n",
       "    'i like books'],\n",
       "   'responses': [\"you should definitely read 'The Lord of the Rings by J.R.R. Tolkien'\",\n",
       "    \"you should definitely read 'Slaughterhouse-Five by Kurt Vonnegut'\",\n",
       "    \"you should definitely read 'To Kill a Mockingbird by Harper Lee'\",\n",
       "    \"you should definitely read ' Harry Potter and the Philosopher’s Stone by J.K. Rowling'\",\n",
       "    \"you should definitely read 'The Kite Runner by Khaled Hosseini'\",\n",
       "    \"you should definitely read 'The Book Thief by Markus Zusak'\",\n",
       "    \"you should definitely read 'Wuthering Heights by Emily Bronte'\",\n",
       "    \"you should definitely read 'The Catcher in the Rye by J.D. Salinger'\",\n",
       "    \"you should definitely read 'Little Women by Louisa May Alcott'\"]}]}"
      ]
     },
     "execution_count": 5,
     "metadata": {},
     "output_type": "execute_result"
    }
   ],
   "source": [
    "intents"
   ]
  },
  {
   "cell_type": "code",
   "execution_count": 6,
   "metadata": {},
   "outputs": [],
   "source": [
    "def Clean_input(sentence):\n",
    "    from nltk.stem import WordNetLemmatizer\n",
    "    lemmatizer=WordNetLemmatizer()\n",
    "    sentenceWord=nltk.word_tokenize(sentence)\n",
    "    sentenceWord=[lemmatizer.lemmatize(word) for word in sentenceWord]\n",
    "    return sentenceWord"
   ]
  },
  {
   "cell_type": "code",
   "execution_count": 7,
   "metadata": {},
   "outputs": [],
   "source": [
    "def bagOfWords(sentence):\n",
    "    sentenceWord=Clean_input(sentence)\n",
    "    BOW=[0]*len(words)\n",
    "    for w in sentenceWord:\n",
    "        for i, word in enumerate(words):\n",
    "            if word==w:\n",
    "                BOW[i]=1\n",
    "    return np.array(BOW)\n",
    "    "
   ]
  },
  {
   "cell_type": "code",
   "execution_count": 8,
   "metadata": {},
   "outputs": [],
   "source": [
    "def predictClass(sentence):\n",
    "    BOW=bagOfWords(sentence)\n",
    "    Prediction=model.predict(np.array([BOW]))[0]\n",
    "    ERROR_THRESHOLD=0.30 #uncertainity\n",
    "    results=[]\n",
    "    for i,r in enumerate(Prediction):\n",
    "        if r>ERROR_THRESHOLD:\n",
    "            results.append(([i,r]))\n",
    "    if len(results)==0:\n",
    "        return 0\n",
    "    results.sort(key=lambda x:x[1], reverse=True)\n",
    "    return_list=[]\n",
    "    for r in results:\n",
    "        return_list.append({\"intent\":Labels[r[0]], \"probability\":str(r[1])})\n",
    "    return return_list"
   ]
  },
  {
   "cell_type": "code",
   "execution_count": 9,
   "metadata": {},
   "outputs": [],
   "source": [
    "def chatbotSpeaks(intents, sentence):\n",
    "    chatbotthinks=predictClass(sentence)\n",
    "    if chatbotthinks==0:\n",
    "        return \"Sorry!, i do not understand.\"\n",
    "    else:\n",
    "        return_intent=chatbotthinks[0]\n",
    "        for intent in intents[\"intent\"]:\n",
    "            if return_intent[\"intent\"]==intent[\"tag\"]:\n",
    "                return random.choice(intent[\"responses\"])\n",
    "#                 print(intent[\"responses\"])\n",
    "        "
   ]
  },
  {
   "cell_type": "code",
   "execution_count": 10,
   "metadata": {},
   "outputs": [],
   "source": [
    "BotName=\"NeuralBot\""
   ]
  },
  {
   "cell_type": "code",
   "execution_count": null,
   "metadata": {},
   "outputs": [],
   "source": []
  },
  {
   "cell_type": "code",
   "execution_count": null,
   "metadata": {},
   "outputs": [],
   "source": []
  },
  {
   "cell_type": "code",
   "execution_count": null,
   "metadata": {},
   "outputs": [],
   "source": []
  },
  {
   "cell_type": "code",
   "execution_count": null,
   "metadata": {},
   "outputs": [],
   "source": []
  },
  {
   "cell_type": "code",
   "execution_count": null,
   "metadata": {},
   "outputs": [],
   "source": []
  },
  {
   "cell_type": "code",
   "execution_count": null,
   "metadata": {},
   "outputs": [],
   "source": []
  },
  {
   "cell_type": "code",
   "execution_count": null,
   "metadata": {},
   "outputs": [],
   "source": []
  },
  {
   "cell_type": "code",
   "execution_count": null,
   "metadata": {},
   "outputs": [],
   "source": []
  },
  {
   "cell_type": "code",
   "execution_count": null,
   "metadata": {},
   "outputs": [],
   "source": []
  },
  {
   "cell_type": "code",
   "execution_count": null,
   "metadata": {},
   "outputs": [],
   "source": []
  },
  {
   "cell_type": "code",
   "execution_count": 41,
   "metadata": {},
   "outputs": [
    {
     "data": {
      "text/plain": [
       "'food'"
      ]
     },
     "execution_count": 41,
     "metadata": {},
     "output_type": "execute_result"
    }
   ],
   "source": [
    "# dict1[\"intent\"]"
   ]
  },
  {
   "cell_type": "code",
   "execution_count": 5,
   "metadata": {},
   "outputs": [
    {
     "name": "stdout",
     "output_type": "stream",
     "text": [
      "Your Name ? geeta\n",
      "press q to quit the conversation!\n",
      "geeta:hi\n",
      "oooohhh\n",
      "geeta:quit\n",
      "it was good talking to you!\n",
      "bye! have a nice day\n"
     ]
    }
   ],
   "source": [
    "# BotName=\"NeuralBot\"\n",
    "# Yourname=input(\"Your Name ? \")\n",
    "# print(\"press q to quit the conversation!\")\n",
    "# while True:\n",
    "#     input_sentence=input(\"{}:\".format(Yourname))\n",
    "#     if input_sentence==\"quit\":\n",
    "#         print(\"it was good talking to you!\\nbye! have a nice day\")\n",
    "#         break\n",
    "#     else:\n",
    "#         print(\"oooohhh\")"
   ]
  },
  {
   "cell_type": "code",
   "execution_count": null,
   "metadata": {},
   "outputs": [],
   "source": []
  },
  {
   "cell_type": "code",
   "execution_count": null,
   "metadata": {},
   "outputs": [],
   "source": []
  },
  {
   "cell_type": "code",
   "execution_count": null,
   "metadata": {},
   "outputs": [],
   "source": []
  },
  {
   "cell_type": "code",
   "execution_count": null,
   "metadata": {},
   "outputs": [],
   "source": []
  },
  {
   "cell_type": "code",
   "execution_count": null,
   "metadata": {},
   "outputs": [],
   "source": []
  },
  {
   "cell_type": "code",
   "execution_count": null,
   "metadata": {},
   "outputs": [],
   "source": []
  },
  {
   "cell_type": "code",
   "execution_count": null,
   "metadata": {},
   "outputs": [],
   "source": []
  },
  {
   "cell_type": "code",
   "execution_count": null,
   "metadata": {},
   "outputs": [],
   "source": []
  }
 ],
 "metadata": {
  "kernelspec": {
   "display_name": "Python 3",
   "language": "python",
   "name": "python3"
  },
  "language_info": {
   "codemirror_mode": {
    "name": "ipython",
    "version": 3
   },
   "file_extension": ".py",
   "mimetype": "text/x-python",
   "name": "python",
   "nbconvert_exporter": "python",
   "pygments_lexer": "ipython3",
   "version": "3.8.10"
  }
 },
 "nbformat": 4,
 "nbformat_minor": 4
}
